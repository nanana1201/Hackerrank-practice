{
 "cells": [
  {
   "cell_type": "markdown",
   "metadata": {},
   "source": [
    "## https://www.hackerrank.com/challenges/breaking-best-and-worst-records/problem "
   ]
  },
  {
   "cell_type": "code",
   "execution_count": null,
   "metadata": {},
   "outputs": [],
   "source": [
    "#!/bin/python3\n",
    "\n",
    "import math\n",
    "import os\n",
    "import random\n",
    "import re\n",
    "import sys\n",
    "\n",
    "#example input\n",
    "# 9\n",
    "# 10 5 20 20 4 5 2 25 1\n",
    "\n",
    "\n",
    "# Complete the breakingRecords function below.\n",
    "def breakingRecords(scores):\n",
    "    min = max = scores[0]\n",
    "    minc=0\n",
    "    maxc=0\n",
    "    for i in range(1, len(scores)):\n",
    "        if scores[i]>max:\n",
    "            maxc+=1\n",
    "            max=scores[i]\n",
    "        if scores[i]<min:\n",
    "            minc+=1\n",
    "            min=scores[i]\n",
    "    return maxc, minc\n",
    "\n",
    "if __name__ == '__main__':\n",
    "    fptr = open(os.environ['OUTPUT_PATH'], 'w')\n",
    "\n",
    "    n = int(input())\n",
    "\n",
    "    scores = list(map(int, input().rstrip().split()))\n",
    "\n",
    "    result = breakingRecords(scores)\n",
    "\n",
    "    fptr.write(' '.join(map(str, result)))\n",
    "    fptr.write('\\n')\n",
    "\n",
    "    fptr.close()\n"
   ]
  }
 ],
 "metadata": {
  "kernelspec": {
   "display_name": "Python 3",
   "language": "python",
   "name": "python3"
  },
  "language_info": {
   "codemirror_mode": {
    "name": "ipython",
    "version": 3
   },
   "file_extension": ".py",
   "mimetype": "text/x-python",
   "name": "python",
   "nbconvert_exporter": "python",
   "pygments_lexer": "ipython3",
   "version": "3.7.4"
  }
 },
 "nbformat": 4,
 "nbformat_minor": 4
}
